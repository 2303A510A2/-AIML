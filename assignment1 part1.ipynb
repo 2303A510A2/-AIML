{
  "nbformat": 4,
  "nbformat_minor": 0,
  "metadata": {
    "colab": {
      "provenance": [],
      "authorship_tag": "ABX9TyOkX4t4IqMnMwJv5PSFnael",
      "include_colab_link": true
    },
    "kernelspec": {
      "name": "python3",
      "display_name": "Python 3"
    },
    "language_info": {
      "name": "python"
    }
  },
  "cells": [
    {
      "cell_type": "markdown",
      "metadata": {
        "id": "view-in-github",
        "colab_type": "text"
      },
      "source": [
        "<a href=\"https://colab.research.google.com/github/2303A510A2/-AIML/blob/main/assignment1%20part1.ipynb\" target=\"_parent\"><img src=\"https://colab.research.google.com/assets/colab-badge.svg\" alt=\"Open In Colab\"/></a>"
      ]
    },
    {
      "cell_type": "code",
      "execution_count": 1,
      "metadata": {
        "id": "YjHiZqbND9wO"
      },
      "outputs": [],
      "source": [
        "\n",
        "my_list = [\"apple\", \"banana\", \"orange\"]\n"
      ]
    },
    {
      "cell_type": "code",
      "source": [
        "import array; arr = array.array('i', [1, 2, 3, 4, 5])\n"
      ],
      "metadata": {
        "id": "VX1Msq3REoRq"
      },
      "execution_count": 2,
      "outputs": []
    },
    {
      "cell_type": "code",
      "source": [
        "import array; arr = array.array('i', [1, 2, 3, 4, 5]); type(arr)\n"
      ],
      "metadata": {
        "colab": {
          "base_uri": "https://localhost:8080/"
        },
        "id": "ewqBcu8LGAwU",
        "outputId": "abda4db4-3da8-4765-88ba-23c472d79037"
      },
      "execution_count": null,
      "outputs": [
        {
          "output_type": "execute_result",
          "data": {
            "text/plain": [
              "array.array"
            ]
          },
          "metadata": {},
          "execution_count": 12
        }
      ]
    },
    {
      "cell_type": "code",
      "source": [
        "import array\n",
        "arr = array.array('i', [1, 2, 3, 4, 5])\n",
        "arr_list = list(arr)\n",
        "mul = [x * 2 for x in arr_list]        # Multiplication\n",
        "div = [x / 2 for x in arr_list]        # Division\n",
        "pow = [x ** 2 for x in arr_list]       # Power\n"
      ],
      "metadata": {
        "id": "I346bBk-GuBx"
      },
      "execution_count": null,
      "outputs": []
    },
    {
      "cell_type": "code",
      "source": [
        "import numpy as np\n",
        "array1 = np.array([1, 2, 3])\n",
        "array2 = np.array([4, 5, 6])\n",
        "result = array1 + array2\n",
        "print(f\"Addition of two: {array1} + {array2} = {result}\")\n"
      ],
      "metadata": {
        "colab": {
          "base_uri": "https://localhost:8080/"
        },
        "id": "RZwzrBObHhZy",
        "outputId": "a10f60d9-3bf6-42f0-f353-bc020718f116"
      },
      "execution_count": null,
      "outputs": [
        {
          "output_type": "stream",
          "name": "stdout",
          "text": [
            "Addition of two: [1 2 3] + [4 5 6] = [5 7 9]\n"
          ]
        }
      ]
    },
    {
      "cell_type": "code",
      "source": [
        "import numpy as np\n",
        "arr = np.array([1, 2, 3, 4, 5])\n",
        "sin_values = np.sin(arr)\n",
        "log_values = np.log(arr)\n",
        "log2_values = np.log2(arr)\n",
        "exp_values = np.exp(arr)\n",
        "print(\"Sine:\", sin_values)\n",
        "print(\"Natural Log:\", log_values)\n",
        "print(\"Base-2 Log:\", log2_values)\n",
        "print(\"Exponential:\", exp_values)\n"
      ],
      "metadata": {
        "colab": {
          "base_uri": "https://localhost:8080/"
        },
        "id": "MvwFcJWGH8l6",
        "outputId": "420a14d3-9e18-47a6-9f3e-ed1f1ff6dbc2"
      },
      "execution_count": null,
      "outputs": [
        {
          "output_type": "stream",
          "name": "stdout",
          "text": [
            "Sine: [ 0.84147098  0.90929743  0.14112001 -0.7568025  -0.95892427]\n",
            "Natural Log: [0.         0.69314718 1.09861229 1.38629436 1.60943791]\n",
            "Base-2 Log: [0.         1.         1.5849625  2.         2.32192809]\n",
            "Exponential: [  2.71828183   7.3890561   20.08553692  54.59815003 148.4131591 ]\n"
          ]
        }
      ]
    }
  ]
}